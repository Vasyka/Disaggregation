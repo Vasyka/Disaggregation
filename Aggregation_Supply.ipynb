{
 "cells": [
  {
   "cell_type": "code",
   "execution_count": 1,
   "metadata": {
    "collapsed": true,
    "pycharm": {
     "is_executing": false,
     "name": "#%%\n"
    }
   },
   "outputs": [],
   "source": [
    "from scripts import support, metrics, vectorization as v, aggregation\n",
    "from scripts.kuroda import kuroda\n",
    "from scripts.insd import insd\n",
    "from scripts.nras import nras\n",
    "import numpy as np\n",
    "import pandas as pd\n",
    "import matplotlib.pyplot as plt\n",
    "import sys\n",
    "from scipy.sparse import csr_matrix\n",
    "%matplotlib inline"
   ]
  },
  {
   "cell_type": "code",
   "execution_count": 2,
   "metadata": {
    "collapsed": true,
    "pycharm": {
     "is_executing": false,
     "name": "#%%\n"
    }
   },
   "outputs": [],
   "source": [
    "#CODES\n",
    "\n",
    "\n",
    "df = pd.read_excel(\"./data/Supply_2007_2012_DET.xlsx\", \"NAICS Codes\", skiprows=4)\n",
    "df = df.iloc[:-6,:-1]\n",
    "df = df.dropna(axis=0, how = 'all')\n",
    "df = df.fillna(0)\n",
    "\n",
    "codes = np.array(df)"
   ]
  },
  {
   "cell_type": "code",
   "execution_count": 3,
   "metadata": {
    "collapsed": true,
    "pycharm": {
     "name": "#%%\n"
    }
   },
   "outputs": [],
   "source": [
    "#DET 2007\n",
    "\n",
    "\n",
    "df = pd.read_excel(\"./data/Supply_2007_2012_DET.xlsx\", \"2007\")\n",
    "df = df.iloc[5:-3,2:-12]\n",
    "df = df.fillna(0)\n",
    "\n",
    "DET_2007 = np.array(df)\n",
    "DET_2007 = np.where(DET_2007=='...', 0, DET_2007)\n",
    "dt_2007 = v.tovector(DET_2007).astype(float)\n",
    "# np.shape(DET_2007)"
   ]
  },
  {
   "cell_type": "code",
   "execution_count": 4,
   "metadata": {
    "collapsed": true,
    "pycharm": {
     "name": "#%%\n"
    }
   },
   "outputs": [],
   "source": [
    "#DET 2012\n",
    "\n",
    "\n",
    "df = pd.read_excel(\"./data/Supply_2007_2012_DET.xlsx\", \"2012\")\n",
    "df = df.iloc[5:-3,2:-12]\n",
    "df = df.fillna(0)\n",
    "\n",
    "DET_2012 = np.array(df)\n",
    "DET_2012 = np.where(DET_2012=='...', 0, DET_2012)\n",
    "dt_2012 = v.tovector(DET_2012).astype(float)\n",
    "\n",
    "\n",
    "#Зануляем элементы, в которых меняется знак\n",
    "det_2007 = dt_2007\n",
    "det_2012 = dt_2012\n",
    "det_2007[dt_2007 * dt_2012 < 0] = 0\n",
    "det_2012[dt_2007 * dt_2012 < 0] = 0\n",
    "DET_2012[DET_2007 * DET_2012 < 0] = 0\n",
    "\n",
    "\n",
    "#Считаем итоги по строкам и столбцам\n",
    "rows_sums_2012 = np.sum(DET_2012, axis=1)\n",
    "columns_sums_2012 = np.sum(DET_2012, axis=0)\n",
    "totals_2012 = np.concatenate((rows_sums_2012, columns_sums_2012)).astype(float)[np.newaxis].T\n",
    "# DET_2012"
   ]
  },
  {
   "cell_type": "code",
   "execution_count": 5,
   "metadata": {
    "collapsed": true
   },
   "outputs": [],
   "source": [
    "#SUM 2007\n",
    "\n",
    "\n",
    "df = pd.read_excel(\"./data/Supply_1997-2017_SUM.xlsx\", \"2007\")\n",
    "df = df.iloc[6:-1,2:-12]\n",
    "df = df.fillna(0)\n",
    "\n",
    "SUM_2007 = np.array(df)\n",
    "SUM_2007 = np.where(SUM_2007=='...', 0, SUM_2007)\n",
    "\n",
    "SUM_2007[[72, 71]] = SUM_2007[[71, 72]]\n",
    "sum_2007 = v.tovector(SUM_2007).astype(float)\n",
    "# np.shape(SUM_2007)"
   ]
  },
  {
   "cell_type": "code",
   "execution_count": 6,
   "metadata": {
    "collapsed": true
   },
   "outputs": [],
   "source": [
    "#SUM 2012\n",
    "\n",
    "\n",
    "df = pd.read_excel(\"./data/Supply_1997-2017_SUM.xlsx\", \"2012\")\n",
    "df = df.iloc[6:-1,2:-12]\n",
    "df = df.fillna(0)\n",
    "\n",
    "SUM_2012 = np.array(df)\n",
    "SUM_2012 = np.where(SUM_2012=='...', 0, SUM_2012)\n",
    "\n",
    "SUM_2012[[72, 71]] = SUM_2012[[71, 72]]\n",
    "sum_2012 = v.tovector(SUM_2012).astype(float)\n",
    "# SUM_2012"
   ]
  },
  {
   "cell_type": "code",
   "execution_count": 7,
   "metadata": {
    "collapsed": true
   },
   "outputs": [],
   "source": [
    "#SECT 2007\n",
    "\n",
    "\n",
    "df = pd.read_excel(\"./data/Supply_1997-2017_SECT.xlsx\", \"2007\")\n",
    "df = df.iloc[6:-1, 2:-11]\n",
    "df = df.fillna(0)\n",
    "\n",
    "SECT_2007 = np.array(df)\n",
    "SECT_2007 = np.where(SECT_2007=='...', 0, SECT_2007)\n",
    "sect_2007 = v.tovector(SECT_2007).astype(float)\n",
    "# SECT_2007"
   ]
  },
  {
   "cell_type": "code",
   "execution_count": 8,
   "metadata": {
    "collapsed": true
   },
   "outputs": [],
   "source": [
    "#SECT 2012\n",
    "\n",
    "\n",
    "df = pd.read_excel(\"./data/Supply_1997-2017_SECT.xlsx\", \"2012\")\n",
    "df = df.iloc[6:-1, 2:-11]\n",
    "df = df.fillna(0)\n",
    "\n",
    "SECT_2012 = np.array(df)\n",
    "SECT_2012 = np.where(SECT_2012=='...', 0, SECT_2012)\n",
    "sect_2012 = v.tovector(SECT_2012).astype(float)\n",
    "# SECT_2012"
   ]
  },
  {
   "cell_type": "code",
   "execution_count": 9,
   "metadata": {
    "collapsed": true
   },
   "outputs": [],
   "source": [
    "#parsing aggregation codes\n",
    "\n",
    "\n",
    "sect_rows, sect_columns, sum_rows, sum_columns = aggregation.parse_agg(codes)"
   ]
  },
  {
   "cell_type": "code",
   "execution_count": 10,
   "metadata": {
    "collapsed": true,
    "pycharm": {
     "name": "#%%\n"
    }
   },
   "outputs": [],
   "source": [
    "#Составляем матрицы-ключи агрегации и векторизованный вид\n",
    "#Для аггрегации в SUM (73,71)\n",
    "\n",
    "left_sum = aggregation.make_keym(405, 73, sum_rows)\n",
    "right_sum = aggregation.make_keym(405, 71, sum_columns)\n",
    "\n",
    "g_to_sum = csr_matrix(aggregation.keys_to_g(left_sum, right_sum))"
   ]
  },
  {
   "cell_type": "code",
   "execution_count": 11,
   "metadata": {
    "collapsed": true,
    "pycharm": {
     "name": "#%%\n"
    }
   },
   "outputs": [],
   "source": [
    "#Составляем матрицы-ключи агрегации и векторизованный вид\n",
    "#Для аггрегации в SECT (17,15)\n",
    "\n",
    "left_sect = aggregation.make_keym(405, 17, sect_rows)\n",
    "right_sect = aggregation.make_keym(405, 15, sect_columns)\n",
    "\n",
    "g_to_sect = csr_matrix(aggregation.keys_to_g(left_sect, right_sect))"
   ]
  },
  {
   "cell_type": "code",
   "execution_count": 12,
   "metadata": {
    "collapsed": true
   },
   "outputs": [],
   "source": [
    "true_sum_2012 = g_to_sum @ det_2012"
   ]
  },
  {
   "cell_type": "code",
   "execution_count": 13,
   "metadata": {
    "collapsed": true
   },
   "outputs": [],
   "source": [
    "true_sect_2012 = g_to_sect @ det_2012"
   ]
  },
  {
   "cell_type": "code",
   "execution_count": 14,
   "metadata": {
    "collapsed": true
   },
   "outputs": [],
   "source": [
    "from scripts import support, metrics, vectorization as v, aggregation\n",
    "def experiment(tables_kind, method_name, bench_matrix, origin_matrix, target_matrix, experiment_type, sparsed = True, save = True):\n",
    "    \"\"\"\n",
    "    Получение результата эксперимента\n",
    "\n",
    "    Parameters\n",
    "    ----------\n",
    "    method_name: string\n",
    "        метод для получения новой матрицы\n",
    "    bench_matrix: np.array или sparse матрица\n",
    "        бенчмарк таблица\n",
    "    origin_matrix: np.array или sparse матрица\n",
    "        оригинальная таблица\n",
    "    target_matrix: np.array или sparse матрица\n",
    "        целевая таблица\n",
    "    experiment_type: string\n",
    "        агрегация\\дезаггрегация\\нет\n",
    "    sparse: bool\n",
    "        использовать sparse матрицу или np.array\n",
    "    Returns\n",
    "    -------\n",
    "    a: float\n",
    "        значение метрики\n",
    "    \"\"\"\n",
    "    if experiment_type == 'дезаггрегация':\n",
    "        if tables_kind == 'sum':\n",
    "            if sparsed:\n",
    "                g = g_to_sum\n",
    "            else:\n",
    "                g = aggregation.keys_to_g(left_sum, right_sum)\n",
    "        else:\n",
    "            if sparsed:\n",
    "                g = g_to_sect\n",
    "            else:\n",
    "                g = aggregation.keys_to_g(left_sect, right_sect)\n",
    "    \n",
    "    # For Kuroda\n",
    "    if len(method_name.split('_')) > 1:\n",
    "        \n",
    "        method, mtype = method_name.split('_')\n",
    "        method = eval(method)\n",
    "        results = np.round(method(g, eval(bench_matrix), eval(origin_matrix), mtype=int(mtype), sparsed=sparsed))\n",
    "    else:\n",
    "        method = eval(method_name)\n",
    "        results = method(g, eval(bench_matrix), eval(origin_matrix), sparsed=sparsed)\n",
    "    metrics_values = metrics.get_values(np.round(results), eval(target_matrix), save=True)\n",
    "    \n",
    "    # Save metrics' results\n",
    "    if save:\n",
    "        info = {'method':method_name, 'experiment_type':experiment_type, 'target_matrix':target_matrix, \n",
    "                'origin_matrix':origin_matrix, 'bench_matrix':bench_matrix}\n",
    "        info = {**info,**metrics_values}\n",
    "\n",
    "        res_table = pd.read_excel('results/results_supply.xlsx')\n",
    "        res_table = res_table.append([info])\n",
    "        res_table.to_excel('results/results_supply.xlsx', index=None,encoding='utf-8')\n",
    "\n",
    "    return metrics_values \n"
   ]
  },
  {
   "cell_type": "code",
   "execution_count": 15,
   "metadata": {},
   "outputs": [
    {
     "name": "stdout",
     "output_type": "stream",
     "text": [
      "1\n"
     ]
    },
    {
     "data": {
      "text/plain": [
       "{'N0': 1139,\n",
       " 'PSISTAT': 0.011,\n",
       " 'RSQ': 0.9905,\n",
       " 'MAPE': 7.6132,\n",
       " 'SWAD': 0.0511,\n",
       " 'WAPE': 11.2657}"
      ]
     },
     "execution_count": 15,
     "metadata": {},
     "output_type": "execute_result"
    }
   ],
   "source": [
    "experiment('sum', 'nras', 'det_2007', 'true_sum_2012', 'det_2012', 'дезаггрегация', True)"
   ]
  },
  {
   "cell_type": "code",
   "execution_count": 16,
   "metadata": {},
   "outputs": [
    {
     "name": "stdout",
     "output_type": "stream",
     "text": [
      "Academic license - for non-commercial use only\n",
      "Parameter BarConvTol unchanged\n",
      "   Value: 1e-08  Min: 0.0  Max: 1.0  Default: 1e-08\n",
      "Parameter BarQCPConvTol unchanged\n",
      "   Value: 1e-06  Min: 0.0  Max: 1.0  Default: 1e-06\n",
      "Changed value of parameter DualReductions to 0\n",
      "   Prev: 1  Min: 0  Max: 1  Default: 1\n"
     ]
    },
    {
     "data": {
      "text/plain": [
       "{'N0': 981,\n",
       " 'PSISTAT': 0.011,\n",
       " 'RSQ': 0.9905,\n",
       " 'MAPE': 7.7892,\n",
       " 'SWAD': 0.0511,\n",
       " 'WAPE': 11.2658}"
      ]
     },
     "execution_count": 16,
     "metadata": {},
     "output_type": "execute_result"
    }
   ],
   "source": [
    "experiment('sum', 'insd', 'det_2007', 'true_sum_2012', 'det_2012', 'дезаггрегация', True)"
   ]
  },
  {
   "cell_type": "code",
   "execution_count": 17,
   "metadata": {},
   "outputs": [
    {
     "name": "stdout",
     "output_type": "stream",
     "text": [
      "Parameter BarConvTol unchanged\n",
      "   Value: 1e-08  Min: 0.0  Max: 1.0  Default: 1e-08\n",
      "Parameter BarQCPConvTol unchanged\n",
      "   Value: 1e-06  Min: 0.0  Max: 1.0  Default: 1e-06\n",
      "Parameter DualReductions unchanged\n",
      "   Value: 1  Min: 0  Max: 1  Default: 1\n"
     ]
    },
    {
     "data": {
      "text/plain": [
       "{'N0': 883,\n",
       " 'PSISTAT': 0.011,\n",
       " 'RSQ': 0.9905,\n",
       " 'MAPE': 7.8882,\n",
       " 'SWAD': 0.0511,\n",
       " 'WAPE': 11.2639}"
      ]
     },
     "execution_count": 17,
     "metadata": {},
     "output_type": "execute_result"
    }
   ],
   "source": [
    "experiment('sum', 'kuroda_3', 'det_2007', 'true_sum_2012', 'det_2012', 'дезаггрегация', sparsed = True)"
   ]
  },
  {
   "cell_type": "code",
   "execution_count": 18,
   "metadata": {},
   "outputs": [
    {
     "name": "stdout",
     "output_type": "stream",
     "text": [
      "Parameter BarConvTol unchanged\n",
      "   Value: 1e-08  Min: 0.0  Max: 1.0  Default: 1e-08\n",
      "Parameter BarQCPConvTol unchanged\n",
      "   Value: 1e-06  Min: 0.0  Max: 1.0  Default: 1e-06\n",
      "Parameter DualReductions unchanged\n",
      "   Value: 1  Min: 0  Max: 1  Default: 1\n"
     ]
    },
    {
     "data": {
      "text/plain": [
       "{'N0': 772,\n",
       " 'PSISTAT': 0.011,\n",
       " 'RSQ': 0.9905,\n",
       " 'MAPE': 7.7889,\n",
       " 'SWAD': 0.0511,\n",
       " 'WAPE': 11.2584}"
      ]
     },
     "execution_count": 18,
     "metadata": {},
     "output_type": "execute_result"
    }
   ],
   "source": [
    "experiment('sum', 'kuroda_2', 'det_2007', 'true_sum_2012', 'det_2012', 'дезаггрегация', sparsed = False)"
   ]
  },
  {
   "cell_type": "code",
   "execution_count": 19,
   "metadata": {},
   "outputs": [
    {
     "name": "stdout",
     "output_type": "stream",
     "text": [
      "Parameter BarConvTol unchanged\n",
      "   Value: 1e-08  Min: 0.0  Max: 1.0  Default: 1e-08\n",
      "Parameter BarQCPConvTol unchanged\n",
      "   Value: 1e-06  Min: 0.0  Max: 1.0  Default: 1e-06\n",
      "Parameter DualReductions unchanged\n",
      "   Value: 1  Min: 0  Max: 1  Default: 1\n"
     ]
    },
    {
     "data": {
      "text/plain": [
       "{'N0': 770,\n",
       " 'PSISTAT': 0.011,\n",
       " 'RSQ': 0.9905,\n",
       " 'MAPE': 7.7895,\n",
       " 'SWAD': 0.0511,\n",
       " 'WAPE': 11.2582}"
      ]
     },
     "execution_count": 19,
     "metadata": {},
     "output_type": "execute_result"
    }
   ],
   "source": [
    "experiment('sum', 'kuroda_1', 'det_2007', 'true_sum_2012', 'det_2012', 'дезаггрегация', sparsed = False)"
   ]
  },
  {
   "cell_type": "code",
   "execution_count": 20,
   "metadata": {},
   "outputs": [
    {
     "name": "stdout",
     "output_type": "stream",
     "text": [
      "1\n"
     ]
    },
    {
     "data": {
      "text/plain": [
       "{'N0': 834,\n",
       " 'PSISTAT': 0.0152,\n",
       " 'RSQ': 0.9845,\n",
       " 'MAPE': 9.4783,\n",
       " 'SWAD': 0.0864,\n",
       " 'WAPE': 14.9561}"
      ]
     },
     "execution_count": 20,
     "metadata": {},
     "output_type": "execute_result"
    }
   ],
   "source": [
    "experiment('sect', 'nras', 'det_2007', 'true_sect_2012', 'det_2012', 'дезаггрегация', True)"
   ]
  },
  {
   "cell_type": "code",
   "execution_count": 21,
   "metadata": {},
   "outputs": [
    {
     "name": "stdout",
     "output_type": "stream",
     "text": [
      "Parameter BarConvTol unchanged\n",
      "   Value: 1e-08  Min: 0.0  Max: 1.0  Default: 1e-08\n",
      "Parameter BarQCPConvTol unchanged\n",
      "   Value: 1e-06  Min: 0.0  Max: 1.0  Default: 1e-06\n",
      "Changed value of parameter DualReductions to 0\n",
      "   Prev: 1  Min: 0  Max: 1  Default: 1\n"
     ]
    },
    {
     "data": {
      "text/plain": [
       "{'N0': 834,\n",
       " 'PSISTAT': 0.0152,\n",
       " 'RSQ': 0.9845,\n",
       " 'MAPE': 9.4799,\n",
       " 'SWAD': 0.0864,\n",
       " 'WAPE': 14.9565}"
      ]
     },
     "execution_count": 21,
     "metadata": {},
     "output_type": "execute_result"
    }
   ],
   "source": [
    "experiment('sect', 'insd', 'det_2007', 'true_sect_2012', 'det_2012', 'дезаггрегация', True)"
   ]
  },
  {
   "cell_type": "code",
   "execution_count": 22,
   "metadata": {},
   "outputs": [
    {
     "name": "stdout",
     "output_type": "stream",
     "text": [
      "Parameter BarConvTol unchanged\n",
      "   Value: 1e-08  Min: 0.0  Max: 1.0  Default: 1e-08\n",
      "Parameter BarQCPConvTol unchanged\n",
      "   Value: 1e-06  Min: 0.0  Max: 1.0  Default: 1e-06\n",
      "Parameter DualReductions unchanged\n",
      "   Value: 1  Min: 0  Max: 1  Default: 1\n"
     ]
    },
    {
     "data": {
      "text/plain": [
       "{'N0': 1888,\n",
       " 'PSISTAT': 0.0171,\n",
       " 'RSQ': 0.984,\n",
       " 'MAPE': 5.7522,\n",
       " 'SWAD': 0.0864,\n",
       " 'WAPE': 15.1468}"
      ]
     },
     "execution_count": 22,
     "metadata": {},
     "output_type": "execute_result"
    }
   ],
   "source": [
    "experiment('sect', 'kuroda_3', 'det_2007', 'true_sect_2012', 'det_2012', 'дезаггрегация', sparsed = True)"
   ]
  },
  {
   "cell_type": "code",
   "execution_count": 23,
   "metadata": {},
   "outputs": [
    {
     "name": "stdout",
     "output_type": "stream",
     "text": [
      "Parameter BarConvTol unchanged\n",
      "   Value: 1e-08  Min: 0.0  Max: 1.0  Default: 1e-08\n",
      "Parameter BarQCPConvTol unchanged\n",
      "   Value: 1e-06  Min: 0.0  Max: 1.0  Default: 1e-06\n",
      "Parameter DualReductions unchanged\n",
      "   Value: 1  Min: 0  Max: 1  Default: 1\n"
     ]
    },
    {
     "data": {
      "text/plain": [
       "{'N0': 834,\n",
       " 'PSISTAT': 0.0152,\n",
       " 'RSQ': 0.9845,\n",
       " 'MAPE': 9.4796,\n",
       " 'SWAD': 0.0864,\n",
       " 'WAPE': 14.9568}"
      ]
     },
     "execution_count": 23,
     "metadata": {},
     "output_type": "execute_result"
    }
   ],
   "source": [
    "experiment('sect', 'kuroda_2', 'det_2007', 'true_sect_2012', 'det_2012', 'дезаггрегация', sparsed = False)"
   ]
  },
  {
   "cell_type": "code",
   "execution_count": 24,
   "metadata": {},
   "outputs": [
    {
     "name": "stdout",
     "output_type": "stream",
     "text": [
      "Parameter BarConvTol unchanged\n",
      "   Value: 1e-08  Min: 0.0  Max: 1.0  Default: 1e-08\n",
      "Parameter BarQCPConvTol unchanged\n",
      "   Value: 1e-06  Min: 0.0  Max: 1.0  Default: 1e-06\n",
      "Parameter DualReductions unchanged\n",
      "   Value: 1  Min: 0  Max: 1  Default: 1\n"
     ]
    },
    {
     "data": {
      "text/plain": [
       "{'N0': 834,\n",
       " 'PSISTAT': 0.0152,\n",
       " 'RSQ': 0.9845,\n",
       " 'MAPE': 9.4796,\n",
       " 'SWAD': 0.0864,\n",
       " 'WAPE': 14.9568}"
      ]
     },
     "execution_count": 24,
     "metadata": {},
     "output_type": "execute_result"
    }
   ],
   "source": [
    "experiment('sect', 'kuroda_1', 'det_2007', 'true_sect_2012', 'det_2012', 'дезаггрегация', sparsed = False)"
   ]
  },
  {
   "cell_type": "code",
   "execution_count": null,
   "metadata": {
    "collapsed": true
   },
   "outputs": [],
   "source": []
  }
 ],
 "metadata": {
  "kernelspec": {
   "display_name": "Python 3",
   "language": "python",
   "name": "python3"
  },
  "language_info": {
   "codemirror_mode": {
    "name": "ipython",
    "version": 3
   },
   "file_extension": ".py",
   "mimetype": "text/x-python",
   "name": "python",
   "nbconvert_exporter": "python",
   "pygments_lexer": "ipython3",
   "version": "3.6.9"
  },
  "pycharm": {
   "stem_cell": {
    "cell_type": "raw",
    "metadata": {
     "collapsed": false
    },
    "source": []
   }
  }
 },
 "nbformat": 4,
 "nbformat_minor": 1
}